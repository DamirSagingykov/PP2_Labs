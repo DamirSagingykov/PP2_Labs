{
 "cells": [
  {
   "cell_type": "markdown",
   "metadata": {},
   "source": [
    "# 1. Write a Python program with builtin function to multiply all the numbers in a list"
   ]
  },
  {
   "cell_type": "code",
   "execution_count": null,
   "metadata": {},
   "outputs": [],
   "source": [
    "import math\n",
    "def multiply_list(lst):\n",
    " return math.prod(lst)\n",
    "test_lists=[[1,2,3,4],[5,6,7],[10,20,30],[2,3,0,4]]\n",
    "for lst in test_lists:\n",
    " print(f\"{lst} -> {multiply_list(lst)}\")"
   ]
  },
  {
   "cell_type": "markdown",
   "metadata": {},
   "source": [
    "# 2. Write a Python program with builtin function that accepts a string and calculate the number of upper case letters and lower case letters"
   ]
  },
  {
   "cell_type": "code",
   "execution_count": null,
   "metadata": {},
   "outputs": [],
   "source": [
    "def count_case(s):\n",
    " upper=sum(1 for c in s if c.isupper())\n",
    " lower=sum(1 for c in s if c.islower())\n",
    " return upper,lower\n",
    "test_strings=[\"AbcDef\",\"XyZ\",\"TestString\",\"aBC\",\"UpperCaseSplit\"]\n",
    "for s in test_strings:\n",
    " print(f\"{s} -> Upper: {count_case(s)[0]}, Lower: {count_case(s)[1]}\")\n"
   ]
  },
  {
   "cell_type": "markdown",
   "metadata": {},
   "source": [
    "# 3.Write a Python program with builtin function that checks whether a passed string is palindrome or not."
   ]
  },
  {
   "cell_type": "code",
   "execution_count": null,
   "metadata": {},
   "outputs": [],
   "source": [
    "def is_palindrome(s):\n",
    " return s==s[::-1]\n",
    "test_strings=[\"madam\",\"racecar\",\"hello\",\"level\",\"python\"]\n",
    "for s in test_strings:\n",
    " print(f\"{s} -> {is_palindrome(s)}\")\n"
   ]
  },
  {
   "cell_type": "markdown",
   "metadata": {},
   "source": [
    "# 4. Write a Python program that invoke square root function after specific milliseconds."
   ]
  },
  {
   "cell_type": "code",
   "execution_count": null,
   "metadata": {},
   "outputs": [],
   "source": [
    "import time\n",
    "import math\n",
    "num = int(input())\n",
    "delay = int(input())\n",
    "time.sleep(delay / 1000)\n",
    "result = math.sqrt(num)\n",
    "print(f\"Square root of {num} after {delay} milliseconds is {result}\")\n"
   ]
  },
  {
   "cell_type": "markdown",
   "metadata": {},
   "source": [
    "# 5. Write a Python program with builtin function that returns True if all elements of the tuple are true."
   ]
  },
  {
   "cell_type": "code",
   "execution_count": null,
   "metadata": {},
   "outputs": [],
   "source": [
    "def all_true(tpl):\n",
    " return all(tpl)\n",
    "test_tuples=[(True,True,True),(1,2,3),(0,1,2),(False,True,True),()]\n",
    "for tpl in test_tuples:\n",
    " print(f\"{tpl} -> {all_true(tpl)}\")\n"
   ]
  }
 ],
 "metadata": {
  "kernelspec": {
   "display_name": "Python 3",
   "language": "python",
   "name": "python3"
  },
  "language_info": {
   "codemirror_mode": {
    "name": "ipython",
    "version": 3
   },
   "file_extension": ".py",
   "mimetype": "text/x-python",
   "name": "python",
   "nbconvert_exporter": "python",
   "pygments_lexer": "ipython3",
   "version": "3.12.1"
  }
 },
 "nbformat": 4,
 "nbformat_minor": 2
}
