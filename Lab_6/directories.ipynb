{
 "cells": [
  {
   "cell_type": "markdown",
   "metadata": {},
   "source": [
    "# 1. Write a Python program to list only directories, files and all directories, files in a specified path."
   ]
  },
  {
   "cell_type": "code",
   "execution_count": 2,
   "metadata": {},
   "outputs": [
    {
     "name": "stdout",
     "output_type": "stream",
     "text": [
      "Directories: []\n",
      "Files: ['builtin.ipynb', 'directories.ipynb', 'row.txt']\n",
      "All: ['builtin.ipynb', 'directories.ipynb', 'row.txt']\n"
     ]
    }
   ],
   "source": [
    "import os\n",
    "def list_contents(path):\n",
    " dirs=[d for d in os.listdir(path) if os.path.isdir(os.path.join(path,d))]\n",
    " files=[f for f in os.listdir(path) if os.path.isfile(os.path.join(path,f))]\n",
    " return dirs,files,dirs+files\n",
    "\n",
    "path=\".\" \n",
    "dirs,files,all_items=list_contents(path)\n",
    "print(f\"Directories: {dirs}\")\n",
    "print(f\"Files: {files}\")\n",
    "print(f\"All: {all_items}\")\n"
   ]
  },
  {
   "cell_type": "markdown",
   "metadata": {},
   "source": [
    "# 2.Write a Python program to check for access to a specified path. Test the existence, readability, writability and executability of the specified path"
   ]
  },
  {
   "cell_type": "code",
   "execution_count": 3,
   "metadata": {},
   "outputs": [
    {
     "name": "stdout",
     "output_type": "stream",
     "text": [
      "Exists: True\n",
      "Readable: True\n",
      "Writable: True\n",
      "Executable: True\n"
     ]
    }
   ],
   "source": [
    "import os\n",
    "def check_access(path):\n",
    " return {\n",
    "  \"Exists\": os.path.exists(path),\n",
    "  \"Readable\": os.access(path, os.R_OK),\n",
    "  \"Writable\": os.access(path, os.W_OK),\n",
    "  \"Executable\": os.access(path, os.X_OK)\n",
    " }\n",
    "\n",
    "path=\"/Users/Damir_All_File/2025/KBTU/PP2\" \n",
    "result=check_access(path)\n",
    "for key,value in result.items():\n",
    " print(f\"{key}: {value}\")\n"
   ]
  },
  {
   "cell_type": "markdown",
   "metadata": {},
   "source": [
    "# 3. Write a Python program to test whether a given path exists or not. If the path exist find the filename and directory portion of the given path."
   ]
  },
  {
   "cell_type": "code",
   "execution_count": 4,
   "metadata": {},
   "outputs": [
    {
     "name": "stdout",
     "output_type": "stream",
     "text": [
      "Exists: True\n",
      "Directory: /Users/Damir_All_File/2025/KBTU\n",
      "Filename: PP2\n"
     ]
    }
   ],
   "source": [
    "import os\n",
    "def check_path(path):\n",
    " if os.path.exists(path):\n",
    "  return {\"Exists\": True, \"Directory\": os.path.dirname(path), \"Filename\": os.path.basename(path)}\n",
    " else:\n",
    "  return {\"Exists\": False}\n",
    "\n",
    "path=\"/Users/Damir_All_File/2025/KBTU/PP2\" \n",
    "result=check_path(path)\n",
    "for key,value in result.items():\n",
    " print(f\"{key}: {value}\")\n"
   ]
  },
  {
   "cell_type": "markdown",
   "metadata": {},
   "source": [
    "# 4. Write a Python program to count the number of lines in a text file."
   ]
  },
  {
   "cell_type": "code",
   "execution_count": 5,
   "metadata": {},
   "outputs": [
    {
     "name": "stdout",
     "output_type": "stream",
     "text": [
      "Number of lines: 148\n"
     ]
    }
   ],
   "source": [
    "def count_lines(filename):\n",
    " with open(filename, \"r\", encoding=\"utf-8\") as file:\n",
    "  return sum(1 for _ in file)\n",
    "filename=\"row.txt\" \n",
    "print(f\"Number of lines: {count_lines(filename)}\")\n"
   ]
  },
  {
   "cell_type": "markdown",
   "metadata": {},
   "source": [
    "# 5. Write a Python program to write a list to a file."
   ]
  },
  {
   "cell_type": "code",
   "execution_count": 37,
   "metadata": {},
   "outputs": [],
   "source": [
    "def write_list_to_file(filename, lst):\n",
    " with open(filename, \"w\", encoding=\"utf-8\") as file:\n",
    "  file.writelines(f\"{item}\\n\" for item in lst)\n",
    "filename=\"row.txt\" \n",
    "data=[\"abc\",\"def\",\"Чек\",\"jkl\"]\n",
    "write_list_to_file(filename, data)\n"
   ]
  },
  {
   "cell_type": "markdown",
   "metadata": {},
   "source": [
    "# 6. Write a Python program to generate 26 text files named A.txt, B.txt, and so on up to Z.txt"
   ]
  },
  {
   "cell_type": "code",
   "execution_count": 38,
   "metadata": {},
   "outputs": [],
   "source": [
    "import string\n",
    "for letter in string.ascii_uppercase:\n",
    " with open(f\"{letter}.txt\", \"w\") as file:\n",
    "  file.write(f\"This is {letter}.txt\\n\")\n"
   ]
  },
  {
   "cell_type": "markdown",
   "metadata": {},
   "source": [
    "# 7. Write a Python program to copy the contents of a file to another file"
   ]
  },
  {
   "cell_type": "code",
   "execution_count": 39,
   "metadata": {},
   "outputs": [],
   "source": [
    "def copy_file(source, destination):\n",
    " with open(source, \"r\", encoding=\"utf-8\") as src, open(destination, \"w\", encoding=\"utf-8\") as dest:\n",
    "  dest.write(src.read())\n",
    "\n",
    "source_file=\"row.txt\" # Change to your source file\n",
    "destination_file=\"A.txt\" # Change to your destination file\n",
    "copy_file(source_file, destination_file)\n"
   ]
  },
  {
   "cell_type": "markdown",
   "metadata": {},
   "source": [
    "# 8. Write a Python program to delete file by specified path. Before deleting check for access and whether a given path exists or not."
   ]
  },
  {
   "cell_type": "code",
   "execution_count": 41,
   "metadata": {},
   "outputs": [
    {
     "name": "stdout",
     "output_type": "stream",
     "text": [
      "File 'Y.txt' deleted successfully.\n"
     ]
    }
   ],
   "source": [
    "import os\n",
    "def delete_file(path):\n",
    " if os.path.exists(path) and os.access(path, os.W_OK):\n",
    "  os.remove(path)\n",
    "  print(f\"File '{path}' deleted successfully.\")\n",
    " else:\n",
    "  print(f\"File '{path}' does not exist or cannot be deleted.\")\n",
    "\n",
    "file_path=\"Y.txt\" # Change to the file you want to delete\n",
    "delete_file(file_path)\n"
   ]
  }
 ],
 "metadata": {
  "kernelspec": {
   "display_name": "Python 3",
   "language": "python",
   "name": "python3"
  },
  "language_info": {
   "codemirror_mode": {
    "name": "ipython",
    "version": 3
   },
   "file_extension": ".py",
   "mimetype": "text/x-python",
   "name": "python",
   "nbconvert_exporter": "python",
   "pygments_lexer": "ipython3",
   "version": "3.12.1"
  }
 },
 "nbformat": 4,
 "nbformat_minor": 2
}
