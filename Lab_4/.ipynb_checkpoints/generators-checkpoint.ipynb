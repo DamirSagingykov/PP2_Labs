{
 "cells": [
  {
   "cell_type": "markdown",
   "metadata": {},
   "source": [
    "# Python iterators and generators"
   ]
  },
  {
   "cell_type": "code",
   "execution_count": 9,
   "metadata": {},
   "outputs": [
    {
     "name": "stdout",
     "output_type": "stream",
     "text": [
      "[1, 4, 9, 16, 25]\n"
     ]
    }
   ],
   "source": [
    "def square_generator(n):\n",
    "    for i in range(1, n + 1):\n",
    "        yield i ** 2  \n",
    "n = 5 \n",
    "print(list(square_generator(n)))\n"
   ]
  },
  {
   "cell_type": "code",
   "execution_count": null,
   "metadata": {},
   "outputs": [],
   "source": [
    "# Write a program using generator to print the \n",
    "# even numbers between 0 and n in comma separated \n",
    "# form where n is input from console.\n",
    "def evenNgen(n):\n",
    "    for i in range(0, n + 1, 2):\n",
    "        yield str(i) \n",
    "n = int(input()) \n",
    "print(\",\".join(evenNgen(n)))"
   ]
  }
 ],
 "metadata": {
  "kernelspec": {
   "display_name": "Python 3",
   "language": "python",
   "name": "python3"
  },
  "language_info": {
   "codemirror_mode": {
    "name": "ipython",
    "version": 3
   },
   "file_extension": ".py",
   "mimetype": "text/x-python",
   "name": "python",
   "nbconvert_exporter": "python",
   "pygments_lexer": "ipython3",
   "version": "3.12.1"
  }
 },
 "nbformat": 4,
 "nbformat_minor": 2
}
