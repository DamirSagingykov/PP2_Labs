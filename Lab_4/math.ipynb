{
 "cells": [
  {
   "cell_type": "code",
   "execution_count": null,
   "metadata": {},
   "outputs": [],
   "source": [
    "import math\n",
    "degree = int(input())\n",
    "radian = degree * (math.pi / 180)\n",
    "print(f\"Input degree: {degree}\")\n",
    "print(f\"Output radian (using math.pi): {radian:.6f}\")\n"
   ]
  },
  {
   "cell_type": "code",
   "execution_count": null,
   "metadata": {},
   "outputs": [],
   "source": [
    "height = float(input(\"Height: \"))\n",
    "base1 = float(input(\"Base, first value: \"))\n",
    "base2 = float(input(\"Base, second value: \"))\n",
    "area = ((base1 + base2) / 2) * height\n",
    "print(f\"The area of the trapezoid is: {area}\")"
   ]
  },
  {
   "cell_type": "code",
   "execution_count": null,
   "metadata": {},
   "outputs": [],
   "source": [
    "import math\n",
    "n = int(input(\"Input number of sides: \"))\n",
    "s = float(input(\"Input the length of a side: \"))\n",
    "area = (n * s**2) / (4 * math.tan(math.pi / n))\n",
    "print(f\"The area of the polygon is: {area}\")"
   ]
  },
  {
   "cell_type": "code",
   "execution_count": null,
   "metadata": {},
   "outputs": [],
   "source": [
    "base = float(input(\"Enter the base length: \"))\n",
    "height = float(input(\"Enter the height: \"))\n",
    "area = base * height\n",
    "print(f\"Area of the parallelogram is: {area}\")"
   ]
  }
 ],
 "metadata": {
  "kernelspec": {
   "display_name": "Python 3",
   "language": "python",
   "name": "python3"
  },
  "language_info": {
   "codemirror_mode": {
    "name": "ipython",
    "version": 3
   },
   "file_extension": ".py",
   "mimetype": "text/x-python",
   "name": "python",
   "nbconvert_exporter": "python",
   "pygments_lexer": "ipython3",
   "version": "3.12.1"
  }
 },
 "nbformat": 4,
 "nbformat_minor": 2
}
