{
 "cells": [
  {
   "cell_type": "markdown",
   "metadata": {},
   "source": [
    "# PYTHON DATE TASK 1"
   ]
  },
  {
   "cell_type": "code",
   "execution_count": 11,
   "metadata": {},
   "outputs": [
    {
     "name": "stdout",
     "output_type": "stream",
     "text": [
      "Current Date: 2025-02-11\n",
      "Date Five Days Ago: 2025-02-06\n"
     ]
    }
   ],
   "source": [
    "# Write a Python program to subtract five days from current date.\n",
    "from datetime import datetime, timedelta\n",
    "x = datetime.now()\n",
    "new_date = x - timedelta(days=5)\n",
    "print(\"Current Date:\", x.strftime(\"%Y-%m-%d\"))\n",
    "print(\"Date Five Days Ago:\", new_date.strftime(\"%Y-%m-%d\"))\n"
   ]
  },
  {
   "cell_type": "code",
   "execution_count": 12,
   "metadata": {},
   "outputs": [
    {
     "name": "stdout",
     "output_type": "stream",
     "text": [
      "yesterday  2025-02-10\n",
      "today : 2025-02-11\n",
      "tomorrow : 2025-02-12\n"
     ]
    }
   ],
   "source": [
    "# Write a Python program to print yesterday, today, tomorrow.\n",
    "from datetime import datetime, timedelta\n",
    "today = datetime.now()\n",
    "yesterday = x - timedelta(days=1)\n",
    "tomorrow = x + timedelta(days=1)\n",
    "print(\"yesterday \", yesterday.strftime(\"%Y-%m-%d\"))\n",
    "print(\"today :\", today.strftime(\"%Y-%m-%d\"))\n",
    "print(\"tomorrow :\", tomorrow.strftime(\"%Y-%m-%d\"))"
   ]
  },
  {
   "cell_type": "code",
   "execution_count": 16,
   "metadata": {},
   "outputs": [
    {
     "name": "stdout",
     "output_type": "stream",
     "text": [
      "original time:  2025-02-11 13:32:54.851938\n",
      "without microsec:  2025-02-11 13:32:54\n"
     ]
    }
   ],
   "source": [
    "# Write a Python program to drop microseconds from datetime.\n",
    "current_datetime = datetime.now()\n",
    "datetime_without_microseconds = current_datetime.replace(microsecond=0)\n",
    "print(\"original time: \", current_datetime)\n",
    "print(\"without microsec: \", datetime_without_microseconds)"
   ]
  },
  {
   "cell_type": "code",
   "execution_count": null,
   "metadata": {},
   "outputs": [
    {
     "name": "stdout",
     "output_type": "stream",
     "text": [
      "Difference in seconds: -36708300\n"
     ]
    }
   ],
   "source": [
    "#Write a Python program to calculate two date difference in seconds.\n",
    "date1 = datetime(2022, 12, 25, 15, 30, 0)  \n",
    "date2 = datetime(2021, 10, 26, 18, 45, 0)  \n",
    "difference = (date2 - date1).total_seconds()\n",
    "\n",
    "print(\"Difference in seconds:\", int(difference))\n"
   ]
  }
 ],
 "metadata": {
  "kernelspec": {
   "display_name": "Python 3",
   "language": "python",
   "name": "python3"
  },
  "language_info": {
   "codemirror_mode": {
    "name": "ipython",
    "version": 3
   },
   "file_extension": ".py",
   "mimetype": "text/x-python",
   "name": "python",
   "nbconvert_exporter": "python",
   "pygments_lexer": "ipython3",
   "version": "3.12.1"
  }
 },
 "nbformat": 4,
 "nbformat_minor": 2
}
