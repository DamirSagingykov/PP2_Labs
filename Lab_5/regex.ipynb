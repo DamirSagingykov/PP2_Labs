{
 "cells": [
  {
   "cell_type": "markdown",
   "metadata": {},
   "source": [
    "# 1. Write a Python program that matches a string that has an 'a' followed by zero or more 'b''s."
   ]
  },
  {
   "cell_type": "code",
   "execution_count": 4,
   "metadata": {},
   "outputs": [
    {
     "name": "stdout",
     "output_type": "stream",
     "text": [
      "a: True\n",
      "ab: True\n",
      "abb: True\n",
      "ac: False\n",
      "b: False\n",
      "aa: False\n",
      "abbc: False\n"
     ]
    }
   ],
   "source": [
    "import re\n",
    "def pat(s):\n",
    "    return bool(re.fullmatch(r\"ab*\", s))\n",
    "test_strings = [\"a\", \"ab\", \"abb\", \"ac\", \"b\", \"aa\", \"abbc\"]\n",
    "for s in test_strings:\n",
    "    print(f\"{s}: {pat(s)}\")"
   ]
  },
  {
   "cell_type": "markdown",
   "metadata": {},
   "source": [
    "# 2. Write a Python program that matches a string that has an 'a' followed by two to three 'b'."
   ]
  },
  {
   "cell_type": "code",
   "execution_count": 5,
   "metadata": {},
   "outputs": [
    {
     "name": "stdout",
     "output_type": "stream",
     "text": [
      "abb: True\n",
      "abbb: True\n",
      "a: False\n",
      "ab: False\n",
      "abbbb: False\n",
      "ac: False\n",
      "abbc: False\n"
     ]
    }
   ],
   "source": [
    "import re\n",
    "def pat(s):\n",
    "    return bool(re.fullmatch(r\"ab{2,3}\", s))\n",
    "test_strings = [\"abb\", \"abbb\", \"a\", \"ab\", \"abbbb\", \"ac\", \"abbc\"]\n",
    "for s in test_strings:\n",
    "    print(f\"{s}: {pat(s)}\")\n"
   ]
  },
  {
   "cell_type": "markdown",
   "metadata": {},
   "source": [
    "# 3. Write a Python program to find sequences of lowercase letters joined with a underscore."
   ]
  },
  {
   "cell_type": "code",
   "execution_count": 7,
   "metadata": {},
   "outputs": [
    {
     "name": "stdout",
     "output_type": "stream",
     "text": [
      "abc_def: True\n",
      "x_y: True\n",
      "mno_pqr: True\n",
      "a_bc: True\n",
      "ab_cd_ef: False\n",
      "A_b: False\n",
      "z_: False\n"
     ]
    }
   ],
   "source": [
    "import re\n",
    "def match_pattern(s):\n",
    " return bool(re.fullmatch(r\"[a-z]+_[a-z]+\",s))\n",
    "test_strings=[\"abc_def\",\"x_y\",\"mno_pqr\",\"a_bc\",\"ab_cd_ef\",\"A_b\",\"z_\"]\n",
    "for s in test_strings:\n",
    " print(f\"{s}: {match_pattern(s)}\")\n"
   ]
  },
  {
   "cell_type": "markdown",
   "metadata": {},
   "source": [
    "# 4.Write a Python program to find the sequences of one upper case letter followed by lower case letters."
   ]
  },
  {
   "cell_type": "code",
   "execution_count": null,
   "metadata": {},
   "outputs": [],
   "source": [
    "import re\n",
    "def match_pattern(s):\n",
    " return bool(re.fullmatch(r\"[A-Z][a-z]+\",s))\n",
    "test_strings=[\"Abc\",\"Xyz\",\"A\",\"abc\",\"AB\",\"XyZ\",\"Mnop\"]\n",
    "for s in test_strings:\n",
    " print(f\"{s}: {match_pattern(s)}\")\n"
   ]
  },
  {
   "cell_type": "markdown",
   "metadata": {},
   "source": [
    "# 5.Write a Python program that matches a string that has an 'a' followed by anything, ending in 'b'."
   ]
  },
  {
   "cell_type": "code",
   "execution_count": 8,
   "metadata": {},
   "outputs": [
    {
     "name": "stdout",
     "output_type": "stream",
     "text": [
      "ab: True\n",
      "axb: True\n",
      "a123b: True\n",
      "a_b: True\n",
      "abbb: True\n",
      "ac: False\n",
      "b: False\n",
      "a: False\n"
     ]
    }
   ],
   "source": [
    "import re\n",
    "def match_pattern(s):\n",
    " return bool(re.fullmatch(r\"a.*b\",s))\n",
    "test_strings=[\"ab\",\"axb\",\"a123b\",\"a_b\",\"abbb\",\"ac\",\"b\",\"a\"]\n",
    "for s in test_strings:\n",
    " print(f\"{s}: {match_pattern(s)}\")"
   ]
  },
  {
   "cell_type": "markdown",
   "metadata": {},
   "source": [
    "# 6. Write a Python program to replace all occurrences of space, comma, or dot with a colon."
   ]
  },
  {
   "cell_type": "code",
   "execution_count": 9,
   "metadata": {},
   "outputs": [
    {
     "name": "stdout",
     "output_type": "stream",
     "text": [
      "hello world -> hello:world\n",
      "a,b.c -> a:b:c\n",
      "test case,with.dots -> test:case:with:dots\n",
      "no,spaces.or,commas -> no:spaces:or:commas\n"
     ]
    }
   ],
   "source": [
    "import re\n",
    "def replace_chars(s):\n",
    " return re.sub(r\"[ ,.]\",\":\",s)\n",
    "test_strings=[\"hello world\",\"a,b.c\",\"test case,with.dots\",\"no,spaces.or,commas\"]\n",
    "for s in test_strings:\n",
    " print(f\"{s} -> {replace_chars(s)}\")"
   ]
  },
  {
   "cell_type": "markdown",
   "metadata": {},
   "source": [
    "# 7.Write a python program to convert snake case string to camel case string."
   ]
  },
  {
   "cell_type": "code",
   "execution_count": null,
   "metadata": {},
   "outputs": [],
   "source": [
    "import re\n",
    "def snake_to_camel(s):\n",
    " return re.sub(r'_([a-z])',lambda m: m.group(1).upper(),s)\n",
    "test_strings=[\"abc_def\",\"x_y_z\",\"mn_op_qr\",\"a_bc\",\"uv_wx_yz\"]\n",
    "for s in test_strings:\n",
    " print(f\"{s} -> {snake_to_camel(s)}\")\n"
   ]
  },
  {
   "cell_type": "markdown",
   "metadata": {},
   "source": [
    "# 8. Write a Python program to split a string at uppercase letters."
   ]
  },
  {
   "cell_type": "code",
   "execution_count": 10,
   "metadata": {},
   "outputs": [
    {
     "name": "stdout",
     "output_type": "stream",
     "text": [
      "AbcDef -> ['', 'Abc', 'Def']\n",
      "XyZ -> ['', 'Xy', 'Z']\n",
      "TestString -> ['', 'Test', 'String']\n",
      "aBC -> ['a', 'B', 'C']\n",
      "UpperCaseSplit -> ['', 'Upper', 'Case', 'Split']\n"
     ]
    }
   ],
   "source": [
    "import re\n",
    "def split_at_uppercase(s):\n",
    " return re.split(r\"(?=[A-Z])\",s)\n",
    "test_strings=[\"AbcDef\",\"XyZ\",\"TestString\",\"aBC\",\"UpperCaseSplit\"]\n",
    "for s in test_strings:\n",
    " print(f\"{s} -> {split_at_uppercase(s)}\")"
   ]
  },
  {
   "cell_type": "markdown",
   "metadata": {},
   "source": [
    "# 9. Write a Python program to insert spaces between words starting with capital letters."
   ]
  },
  {
   "cell_type": "code",
   "execution_count": null,
   "metadata": {},
   "outputs": [],
   "source": [
    "import re\n",
    "def insert_spaces(s):\n",
    " return re.sub(r\"(?<!^)([A-Z])\",r\" \\1\",s)\n",
    "test_strings=[\"AbcDef\",\"XyZ\",\"TestString\",\"aBC\",\"UpperCaseSplit\"]\n",
    "for s in test_strings:\n",
    " print(f\"{s} -> {insert_spaces(s)}\")"
   ]
  },
  {
   "cell_type": "markdown",
   "metadata": {},
   "source": [
    "# 10. Write a Python program to convert a given camel case string to snake case."
   ]
  },
  {
   "cell_type": "code",
   "execution_count": 11,
   "metadata": {},
   "outputs": [
    {
     "name": "stdout",
     "output_type": "stream",
     "text": [
      "AbcDef -> abc_def\n",
      "XyZ -> xy_z\n",
      "TestString -> test_string\n",
      "aBC -> a_b_c\n",
      "UpperCaseSplit -> upper_case_split\n"
     ]
    }
   ],
   "source": [
    "import re\n",
    "def camel_to_snake(s):\n",
    " return re.sub(r\"([A-Z])\",r\"_\\1\",s).lower().lstrip('_')\n",
    "test_strings=[\"AbcDef\",\"XyZ\",\"TestString\",\"aBC\",\"UpperCaseSplit\"]\n",
    "for s in test_strings:\n",
    " print(f\"{s} -> {camel_to_snake(s)}\")\n"
   ]
  }
 ],
 "metadata": {
  "kernelspec": {
   "display_name": "Python 3",
   "language": "python",
   "name": "python3"
  },
  "language_info": {
   "codemirror_mode": {
    "name": "ipython",
    "version": 3
   },
   "file_extension": ".py",
   "mimetype": "text/x-python",
   "name": "python",
   "nbconvert_exporter": "python",
   "pygments_lexer": "ipython3",
   "version": "3.12.1"
  }
 },
 "nbformat": 4,
 "nbformat_minor": 2
}
